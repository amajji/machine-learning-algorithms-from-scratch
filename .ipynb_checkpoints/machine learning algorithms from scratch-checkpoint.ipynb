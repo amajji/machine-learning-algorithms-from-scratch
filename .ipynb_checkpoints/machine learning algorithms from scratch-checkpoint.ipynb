{
 "cells": [
  {
   "cell_type": "markdown",
   "metadata": {},
   "source": [
    "# Implementation of Machine Learning algorithms from scratch"
   ]
  },
  {
   "cell_type": "markdown",
   "metadata": {},
   "source": [
    "## Import libraries"
   ]
  },
  {
   "cell_type": "code",
   "execution_count": null,
   "metadata": {},
   "outputs": [],
   "source": [
    "import numpy as np \n",
    "import matplotlib.pyplot as plt \n",
    "from sklearn.datasets import make_regression \n",
    "from sklearn.linear_model import LinearRegression \n",
    "from sklearn.model_selection import train_test_split \n",
    "from sklearn.metrics import mean_squared_error\n",
    "import numpy as np\n",
    "import pandas as pd\n",
    "from sklearn.model_selection import train_test_split\n",
    "import matplotlib.pyplot as plt\n",
    "from collections import defaultdict\n",
    "from sklearn.datasets import make_classification\n",
    "import time\n",
    "from numpy.linalg import norm\n",
    "import math "
   ]
  },
  {
   "cell_type": "markdown",
   "metadata": {},
   "source": [
    " "
   ]
  },
  {
   "cell_type": "markdown",
   "metadata": {},
   "source": [
    " # 1. Linear regression "
   ]
  },
  {
   "cell_type": "code",
   "execution_count": 2,
   "metadata": {},
   "outputs": [],
   "source": [
    "# creating the data set\n",
    "X, y = make_regression(n_samples=100, n_features=1, n_targets=1, noise=20, random_state=24)\n",
    "\n",
    "# splitting training and test\n",
    "X_train, X_test, y_train, y_test = train_test_split(X, y, train_size=0.75, random_state=24)"
   ]
  },
  {
   "cell_type": "code",
   "execution_count": 3,
   "metadata": {},
   "outputs": [
    {
     "data": {
      "image/png": "[encoded data removed]",
      "text/plain": [
       "<Figure size 432x288 with 1 Axes>"
      ]
     },
     "metadata": {
      "needs_background": "light"
     },
     "output_type": "display_data"
    }
   ],
   "source": [
    "# visualize \n",
    "plt.scatter(X, y)\n",
    "plt.show()"
   ]
  },
  {
   "cell_type": "markdown",
   "metadata": {},
   "source": [
    "## 1.1 Implementation of Linear regression "
   ]
  },
  {
   "cell_type": "code",
   "execution_count": 4,
   "metadata": {},
   "outputs": [],
   "source": [
    "def param_init(x):\n",
    "    \"\"\"\n",
    "    Initialize the parameters for linear regression model\n",
    "\n",
    "    :param X : training data \n",
    "    \n",
    "    :return : params : Dictionary containing coefficients \n",
    "    \"\"\"\n",
    "    params = {} # initilize dictionary \n",
    "    _ , n_features = X.shape # shape of training data \n",
    "    params[\"W\"] = np.zeros(n_features)\n",
    "    params[\"b\"] = 0 \n",
    "    return params"
   ]
  },
  {
   "cell_type": "code",
   "execution_count": 5,
   "metadata": {},
   "outputs": [],
   "source": [
    "params = param_init(X)"
   ]
  },
  {
   "cell_type": "code",
   "execution_count": 6,
   "metadata": {},
   "outputs": [],
   "source": [
    "def gradient_descend(X,y,params, alpha, n_iter):\n",
    "    \"\"\"\n",
    "    Gradient descent to minimize cost function\n",
    " \n",
    "    :param X : Training data \n",
    "    :param y : Labels\n",
    "    :param params : Dictionary contatining random coefficients \n",
    "     \n",
    "    :return : Dictionary containing optimized coefficients\n",
    "    \"\"\"\n",
    "    W = params[\"W\"]\n",
    "    b = params[\"b\"]\n",
    "    m = X.shape[0] # number of training instances \n",
    "    \n",
    "    for _ in range(n_iter):\n",
    "        # prediction with random weights\n",
    "        y_pred = np.dot(X,W) + b\n",
    "        # computing the partial derivation of the coefficients\n",
    "        dw = (2/m)*np.dot(X.T, (y_pred - y))\n",
    "        db = (2/m)*np.sum(y_pred - y)\n",
    "        # updates the coefficient\n",
    "        W -= alpha*dw\n",
    "        b -= alpha*db\n",
    "    params[\"W\"] = W\n",
    "    params[\"b\"] = b \n",
    "    return params"
   ]
  },
  {
   "cell_type": "code",
   "execution_count": 7,
   "metadata": {},
   "outputs": [],
   "source": [
    "def train(X, y, alpha= 0.01, n_iter=1000):\n",
    "    \"\"\"\n",
    "    train the linear regression model with Gradient decent\n",
    "    \n",
    "    :param X: training data\n",
    "    :param y: Labels\n",
    "    :param alpha: Model Learning rate\n",
    "    :param n_iter: Number of iterations\n",
    "    \n",
    "    :return : Dictionary containing optimized coefficients\n",
    "    \"\"\"\n",
    "    init_params = param_init(X)\n",
    "    params = gradient_descend(X, y, init_params, alpha, n_iter)\n",
    "    return params"
   ]
  },
  {
   "cell_type": "code",
   "execution_count": 8,
   "metadata": {},
   "outputs": [],
   "source": [
    "def predict(X_test, params):\n",
    "    \"\"\"\n",
    "    Function to predict the \n",
    "    * Inputs \n",
    "        X_test : Test data \n",
    "        params: Dictionary containing optimized coefficients\n",
    "    * Outputs\n",
    "        y_preds : predictions of the model \n",
    "    \"\"\"\n",
    "    y_preds = np.dot(X_test,params[\"W\"]) + params[\"b\"]\n",
    "    return y_preds"
   ]
  },
  {
   "cell_type": "code",
   "execution_count": 9,
   "metadata": {},
   "outputs": [
    {
     "data": {
      "image/png": "[encoded data removed]",
      "text/plain": [
       "<Figure size 432x288 with 1 Axes>"
      ]
     },
     "metadata": {
      "needs_background": "light"
     },
     "output_type": "display_data"
    }
   ],
   "source": [
    "params = train(X_train, y_train) # train model\n",
    "y_preds = predict(X_test, params) # inference\n",
    "\n",
    "plt.scatter(X_test, y_test)\n",
    "plt.plot(X_test, y_preds, color=\"red\")\n",
    "plt.title(\"Predictions Dummy Regression Data\")\n",
    "plt.xlabel(\"X axis\")\n",
    "plt.ylabel(\"Y axis\")\n",
    "\n",
    "plt.show()"
   ]
  },
  {
   "cell_type": "code",
   "execution_count": 10,
   "metadata": {},
   "outputs": [
    {
     "name": "stdout",
     "output_type": "stream",
     "text": [
      "My implementation: 20.986105292320207\n",
      "Sklearn implementation: 20.98610530754737\n"
     ]
    }
   ],
   "source": [
    "lin_reg = LinearRegression()\n",
    "lin_reg.fit(X_train, y_train)\n",
    "sklearn_y_preds = lin_reg.predict(X_test)\n",
    "print(f\"My implementation: {np.sqrt(mean_squared_error(y_test, y_preds))}\\nSklearn implementation: {np.sqrt(mean_squared_error(y_test, sklearn_y_preds))}\")"
   ]
  },
  {
   "cell_type": "code",
   "execution_count": 11,
   "metadata": {},
   "outputs": [],
   "source": [
    "class LinReg(): \n",
    "    \n",
    "    def __init__(self, alpha=0.01, n_iter= 1000): \n",
    "        \"\"\"\n",
    "        Implementation of Linear regression in python\n",
    "        \n",
    "        :param alpha : the learning rate \n",
    "        :param n_iter : the number of iterations\n",
    "        \"\"\"\n",
    "        self.alpha = alpha\n",
    "        self.n_iter = n_iter \n",
    "        self.params = {}\n",
    "    \n",
    "    def param_init(self, X_train): \n",
    "        \"\"\"\n",
    "        Initialize parameters for linear regression model\n",
    "\n",
    "        :param X: Training data\n",
    "        \"\"\"\n",
    "        _, n_features = X_train.shape # shape of training data\n",
    "\n",
    "        # initializing coefficents to 0 \n",
    "        self.params[\"W\"] = np.zeros(n_features)\n",
    "        self.params[\"b\"] = 0\n",
    "        return self\n",
    "        \n",
    "\n",
    "    def gradient_descent(self, X_train, y_train): \n",
    "        \"\"\"\n",
    "        Gradient descent to minimize cost function\n",
    "        \n",
    "        :param X: Training data\n",
    "        :param y: Labels\n",
    "        :param params: Dictionary contatining random coefficients\n",
    "        :param alpha: Model learning rate\n",
    "\n",
    "        :return \n",
    "            params: Dictionary containing optimized coefficients\n",
    "        \"\"\"\n",
    "        W = self.params[\"W\"] \n",
    "        b = self.params[\"b\"] \n",
    "        m = X_train.shape[0]\n",
    "         \n",
    "        for _ in range(self.n_iter): \n",
    "            # prediction with random weights\n",
    "            y_pred = np.dot(X_train, W) + b\n",
    "            # taking the partial derivative of coefficients\n",
    "            dW = (2/m) * np.dot(X_train.T, (y_pred - y_train)) \n",
    "            db = (2/m) * np.sum(y_pred -  y_train)\n",
    "            # updates to coefficients\n",
    "            W -= self.alpha * dW\n",
    "            b -= self.alpha * db \n",
    "         \n",
    "        self.params[\"W\"] = W\n",
    "        self.params[\"b\"] = b\n",
    "        return self\n",
    "\n",
    "    def train(self, X_train, y_train):\n",
    "        \"\"\"\n",
    "        Train Linear Regression model with Gradient decent\n",
    "        \n",
    "        :param X: Training data\n",
    "        :param y: Labels\n",
    "        :param alpha: Model learning rate\n",
    "        :param n_iter: Number of iterations \n",
    "         \n",
    "        :return : Dictionary containing optimized coefficients\n",
    "        \"\"\" \n",
    "        \n",
    "        self.param_init(X_train)\n",
    "        self.gradient_descent( X_train, y_train)\n",
    "        return self \n",
    "\n",
    "    def predict(self, X_test):\n",
    "        \"\"\"\n",
    "        Train Linear Regression model with Gradient decent\n",
    "        \n",
    "        :param X : Unseen data\n",
    "        :param params: Dictionary contianing optimized weights from training\n",
    "         \n",
    "        :return\n",
    "            y_preds: Predictions of model\n",
    "        \"\"\"  \n",
    "        y_preds = np.dot(X_test, self.params[\"W\"]) + self.params[\"b\"]\n",
    "        return y_preds"
   ]
  },
  {
   "cell_type": "code",
   "execution_count": 12,
   "metadata": {},
   "outputs": [],
   "source": [
    "linreg = LinReg()\n",
    "linreg.train(X_train, y_train)\n",
    "Y_pred = linreg.predict(X_test)"
   ]
  },
  {
   "cell_type": "code",
   "execution_count": 13,
   "metadata": {},
   "outputs": [
    {
     "data": {
      "image/png": "[encoded data removed]",
      "text/plain": [
       "<Figure size 432x288 with 1 Axes>"
      ]
     },
     "metadata": {
      "needs_background": "light"
     },
     "output_type": "display_data"
    }
   ],
   "source": [
    "# Visualization on test set \n",
    "plt.scatter( X_test, y_test, color = 'blue' )\n",
    "plt.plot( X_test, Y_pred, color = 'orange' )  \n",
    "plt.title( 'Salary vs Experience' )\n",
    "plt.xlabel( 'Years of Experience' )\n",
    "plt.ylabel( 'Salary' )\n",
    "plt.show()"
   ]
  },
  {
   "cell_type": "markdown",
   "metadata": {},
   "source": [
    "## 1.2 Implementation of Lasso regression"
   ]
  },
  {
   "cell_type": "code",
   "execution_count": 14,
   "metadata": {},
   "outputs": [],
   "source": [
    "# Lasso Regression\n",
    "class LassoRegression() :\n",
    "    def __init__( self, learning_rate, iterations, l1_penality ) :\n",
    "        \"\"\"\n",
    "        Implementation of Lasso regression using sub-gradient\n",
    "        \n",
    "        :param learning_rate : the learning rate using in the sub-gradient descent method\n",
    "        :param iterations : the number of iterations \n",
    "        :param l1_penalty : the regularization parameter \n",
    "        \"\"\"\n",
    "        \n",
    "        self.learning_rate = learning_rate\n",
    "        self.iterations = iterations\n",
    "        self.l1_penality = l1_penality\n",
    "          \n",
    "    # Function for model training\n",
    "    def fit( self, X, Y ) :\n",
    "        \"\"\"\n",
    "        This function fit the model\n",
    "        \n",
    "        :param X : the training dataset\n",
    "        :param Y : the vector labels\n",
    "        \"\"\"\n",
    "        # no_of_training_examples, no_of_features\n",
    "        self.m, self.n = X.shape\n",
    "        \n",
    "        # weight initialization\n",
    "        self.W = np.zeros( self.n )  \n",
    "        self.b = 0\n",
    "        self.X = X\n",
    "        self.Y = Y\n",
    "          \n",
    "        # gradient descent learning\n",
    "        for i in range( self.iterations ) :\n",
    "            \n",
    "            self.update_weights()\n",
    "              \n",
    "        return self\n",
    "      \n",
    "    # Helper function to update weights in gradient descent\n",
    "    def update_weights( self ) :\n",
    "        \"\"\"\n",
    "        This function updates the weights using subgradient method \n",
    "        \"\"\"\n",
    "        \n",
    "        #Compute the prediction of X \n",
    "        Y_pred = self.predict( self.X )\n",
    "          \n",
    "        # calculate gradients  \n",
    "        dW = np.zeros( self.n )\n",
    "          \n",
    "        for j in range( self.n ) :\n",
    "            if self.W[j] > 0 :\n",
    "                  \n",
    "                dW[j] = ( - ( 2 * ( self.X[:, j] ).dot( self.Y - Y_pred ) ) \n",
    "                         + self.l1_penality ) / self.m\n",
    "          \n",
    "            else :\n",
    "                  \n",
    "                dW[j] = ( - ( 2 * ( self.X[:, j] ).dot( self.Y - Y_pred ) ) \n",
    "                         - self.l1_penality ) / self.m\n",
    "  \n",
    "       \n",
    "        db = - 2 * np.sum( self.Y - Y_pred ) / self.m \n",
    "          \n",
    "        # update weights\n",
    "        self.W = self.W - self.learning_rate * dW\n",
    "        self.b = self.b - self.learning_rate * db\n",
    "          \n",
    "        return self\n",
    "      \n",
    "    # Hypothetical function  h( x ) \n",
    "    def predict( self, X ) :\n",
    "        \"\"\"\n",
    "        This function predict the label of X using the weights already W and b\n",
    "        \"\"\"\n",
    "        \n",
    "        return X.dot( self.W ) + self.b"
   ]
  },
  {
   "cell_type": "code",
   "execution_count": 15,
   "metadata": {},
   "outputs": [
    {
     "name": "stdout",
     "output_type": "stream",
     "text": [
      "Predicted values  [  4.71 -86.14  77.21]\n",
      "Real values       [ 20.21770658 -72.84204136  54.87400277]\n",
      "Trained W         72.42\n",
      "Trained b         2.57\n"
     ]
    },
    {
     "data": {
      "image/png": "[encoded data removed]",
      "text/plain": [
       "<Figure size 432x288 with 1 Axes>"
      ]
     },
     "metadata": {
      "needs_background": "light"
     },
     "output_type": "display_data"
    }
   ],
   "source": [
    "model = LassoRegression( iterations = 1000, learning_rate = 0.01, l1_penality = 500 )\n",
    "model.fit( X_train, y_train )\n",
    "      \n",
    "# Prediction on test set\n",
    "Y_pred = model.predict( X_test )\n",
    "print( \"Predicted values \", np.round( Y_pred[:3], 2 ) ) \n",
    "print( \"Real values      \", y_test[:3] )\n",
    "print( \"Trained W        \", round( model.W[0], 2 ) )\n",
    "print( \"Trained b        \", round( model.b, 2 ) )\n",
    "      \n",
    "# Visualization on test set \n",
    "plt.scatter( X_test, y_test, color = 'blue' )\n",
    "plt.plot( X_test, Y_pred, color = 'orange' )\n",
    "plt.title( 'Salary vs Experience' )\n",
    "plt.xlabel( 'Years of Experience' )\n",
    "plt.ylabel( 'Salary' )\n",
    "plt.show()"
   ]
  },
  {
   "cell_type": "markdown",
   "metadata": {},
   "source": [
    "## 1.3 Implemtation of Ridge regression "
   ]
  },
  {
   "cell_type": "code",
   "execution_count": 16,
   "metadata": {},
   "outputs": [],
   "source": [
    "class RidgeRegression() : \n",
    "    \n",
    "    def __init__( self, learning_rate, iterations, l2_penality ) : \n",
    "        \"\"\"\n",
    "        Implementation of Ridge regression from scratch \n",
    "        \n",
    "        :param learning_rate : the learning rate using in gradient descent method\n",
    "        :param L2_penality : the regularization parameter \n",
    "        \"\"\"\n",
    "        \n",
    "        self.learning_rate = learning_rate         \n",
    "        self.iterations = iterations         \n",
    "        self.l2_penality = l2_penality \n",
    "          \n",
    "    \n",
    "    def fit( self, X, Y ) : \n",
    "        \"\"\"\n",
    "        This function fit the Ridge regression model \n",
    "        \n",
    "        :param X : the training dataset \n",
    "        :param Y : the vector label\n",
    "        \"\"\"\n",
    "        \n",
    "        self.m, self.n = X.shape \n",
    "        self.W = np.zeros( self.n ) \n",
    "        self.b = 0        \n",
    "        self.X = X         \n",
    "        self.Y = Y \n",
    "          \n",
    "        # for each iteration, update the weights\n",
    "        for i in range( self.iterations ) :             \n",
    "            self.update_weights()             \n",
    "        return self\n",
    "      \n",
    "      \n",
    "    def update_weights( self ) :\n",
    "        \"\"\"\n",
    "        This function updates the weights using gradient descent method\n",
    "        \"\"\"\n",
    "        \n",
    "        # compute the preicted label of X\n",
    "        Y_pred = self.predict( self.X ) \n",
    "          \n",
    "        # compute the gradient of the loss function for w and b\n",
    "        dW = ( - ( 2 * ( self.X.T ).dot( self.Y - Y_pred ) ) +               \n",
    "               ( 2 * self.l2_penality * self.W ) ) / self.m      \n",
    "        db = - 2 * np.sum( self.Y - Y_pred ) / self.m  \n",
    "          \n",
    "        \n",
    "        # upadates the weights\n",
    "        self.W = self.W - self.learning_rate * dW     \n",
    "        self.b = self.b - self.learning_rate * db         \n",
    "        return self\n",
    "      \n",
    "    \n",
    "    def predict( self, X ) :     \n",
    "        \"\"\"\n",
    "        This function predict the label of X based on the weights already updated\n",
    "        \n",
    "        :param X: the training dataset\n",
    "        \n",
    "        :return the predicted label of X\n",
    "        \"\"\"\n",
    "        \n",
    "        return X.dot( self.W ) + self.b \n"
   ]
  },
  {
   "cell_type": "code",
   "execution_count": 17,
   "metadata": {},
   "outputs": [
    {
     "name": "stdout",
     "output_type": "stream",
     "text": [
      "Predicted values  [  4.73 -88.89  79.45]\n",
      "Real values       [ 20.21770658 -72.84204136  54.87400277]\n",
      "Trained W         74.64\n",
      "Trained b         2.53\n"
     ]
    },
    {
     "data": {
      "image/png": "[encoded data removed]",
      "text/plain": [
       "<Figure size 432x288 with 1 Axes>"
      ]
     },
     "metadata": {
      "needs_background": "light"
     },
     "output_type": "display_data"
    }
   ],
   "source": [
    "model = RidgeRegression( iterations = 1000,                              \n",
    "                            learning_rate = 0.01, l2_penality = 1 ) \n",
    "model.fit( X_train, y_train ) \n",
    "      \n",
    "    \n",
    "Y_pred = model.predict( X_test )     \n",
    "print( \"Predicted values \", np.round( Y_pred[:3], 2 ) )      \n",
    "print( \"Real values      \", y_test[:3] )     \n",
    "print( \"Trained W        \", round( model.W[0], 2 ) )     \n",
    "print( \"Trained b        \", round( model.b, 2 ) ) \n",
    "      \n",
    "    \n",
    "plt.scatter( X_test, y_test, color = 'blue' )     \n",
    "plt.plot( X_test, Y_pred, color = 'orange' )     \n",
    "plt.title( 'Salary vs Experience' )     \n",
    "plt.xlabel( 'Years of Experience' )     \n",
    "plt.ylabel( 'Salary' )     \n",
    "plt.show() "
   ]
  },
  {
   "cell_type": "markdown",
   "metadata": {},
   "source": [
    "# 2. Implementation of logistic regression "
   ]
  },
  {
   "cell_type": "code",
   "execution_count": 18,
   "metadata": {},
   "outputs": [],
   "source": [
    "# generate data for classification \n",
    "X, y = make_classification(n_features=2, n_redundant=0, \n",
    "                           n_informative=2, random_state=1, \n",
    "                           n_clusters_per_class=1)\n",
    "\n",
    "# splitting training and test\n",
    "X_train, X_test, y_train, y_test = train_test_split(X, y, train_size=0.75, random_state=24)"
   ]
  },
  {
   "cell_type": "code",
   "execution_count": 21,
   "metadata": {},
   "outputs": [],
   "source": [
    "def loss(y, y_hat):\n",
    "    \"\"\"\n",
    "    This function computes binary logloss function \n",
    "    \n",
    "    :param y : true labels\n",
    "    :param y_hat : predicted label \n",
    "    \"\"\"\n",
    "    loss = -np.mean(y*(np.log(y_hat)) - (1-y)*np.log(1-y_hat))\n",
    "    return loss\n",
    "\n",
    "def normalize(X):\n",
    "    \"\"\" \n",
    "    This function normalizes input data\n",
    "    :param X : input array \n",
    "    \"\"\"\n",
    "    # X --> Input.\n",
    "    \n",
    "    # m : number of training examples\n",
    "    # n : number of features \n",
    "    m, n = X.shape\n",
    "    \n",
    "    # Normalizing all the n features of X.\n",
    "    for i in range(n):\n",
    "        X = (X - X.mean(axis=0))/X.std(axis=0)\n",
    "        \n",
    "    return X"
   ]
  },
  {
   "cell_type": "code",
   "execution_count": 22,
   "metadata": {},
   "outputs": [],
   "source": [
    "class Log_regession():\n",
    "    def __init__(self,losses =[], nb_epochs = 1000, alpha = 0.001, bs=10):\n",
    "        self.params = {}\n",
    "        self.nb_epochs = nb_epochs\n",
    "        self.alpha = alpha\n",
    "        self.bs = bs\n",
    "        self.losses = losses\n",
    "    \n",
    "    def init_param(self, X_train):\n",
    "        self.params[\"W\"] = np.zeros(X_train.shape[1])\n",
    "        self.params[\"b\"] = 0\n",
    "        return self\n",
    "    \n",
    "    def gradient_descent(self, X_train, y_train):\n",
    "        m = X_train.shape[1] -1 \n",
    "        W = self.params[\"W\"]\n",
    "        b = self.params[\"b\"]\n",
    "        bs = self.bs \n",
    "     \n",
    "        # Normalize data\n",
    "        X_train = normalize(X_train)\n",
    "        \n",
    "        for _ in  range(self.nb_epochs):\n",
    "            for i in range(m//bs + 1 ):\n",
    "                x_part = X_train[i*bs:(i+1)*bs,:]\n",
    "                #print(x_part.shape)\n",
    "                y_part = y_train[i*bs:(i+1)*bs]\n",
    "                y_pred = 1.0/(1 + np.exp(-(np.dot(x_part,self.params[\"W\"]))+self.params[\"b\"]))\n",
    "                \n",
    "                self.losses.append(loss(y_part, y_pred))\n",
    "                \n",
    "                dw = (1/m)*np.dot(x_part.T, (y_pred - y_part))\n",
    "                db = (1/m)*np.sum((y_pred - y_part)) \n",
    "                \n",
    "                W -= self.alpha*dw\n",
    "                b -= self.alpha*db\n",
    "                \n",
    "        self.params[\"W\"] = W\n",
    "        self.params[\"b\"] = b\n",
    "        return self\n",
    "    \n",
    "    def train(self, X_train, y_train):\n",
    "        self.init_param(X_train)\n",
    "        self.gradient_descent(X_train, y_train)\n",
    "        return self\n",
    "    \n",
    "    def predict(self,X_test):\n",
    "        self.train(X_train, y_train)\n",
    "        \n",
    "        # Normalize data\n",
    "        X_test = normalize(X_test)\n",
    "        y_pred = 1.0/(1 + np.exp(-(np.dot(X_test,self.params[\"W\"]))+self.params[\"b\"]))\n",
    "        y_pred = [1 if y_pred[i] >= 0.5 else 0 for i in range(len(y_pred)) ]\n",
    "        return y_pred"
   ]
  },
  {
   "cell_type": "markdown",
   "metadata": {},
   "source": [
    "# 3. Implementation of SVM "
   ]
  },
  {
   "cell_type": "code",
   "execution_count": 656,
   "metadata": {},
   "outputs": [],
   "source": [
    "# Generate random array \n",
    "data = np.random.randint(15, size=800).reshape((100,8))\n",
    "\n",
    "# array of labels\n",
    "y = np.array([1, 0, 0, 0, 0, 1, 1, 0, 1, 0, 1, 0, 0, 1, 0, 0, 1, 0, 0, 0, 0, 1,\n",
    "       1, 0, 1, 1, 1, 1, 1, 1, 1, 1, 1, 1, 1, 1, 0, 1, 0, 1, 0, 1, 1, 1,\n",
    "       0, 0, 1, 1, 1, 0, 0, 1, 1, 1, 0, 1, 1, 0, 0, 1, 1, 1, 0, 1, 0, 1,\n",
    "       1, 1, 0, 0, 0, 1, 1, 0, 1, 0, 0, 1, 1, 1, 1, 1, 1, 1, 0, 1, 0, 0,\n",
    "       0, 0, 1, 1, 0, 1, 0, 0, 0, 0, 1, 0])"
   ]
  },
  {
   "cell_type": "code",
   "execution_count": 658,
   "metadata": {},
   "outputs": [
    {
     "data": {
      "text/plain": [
       "array([6.34, 6.75, 7.1 , 7.45, 7.56, 6.49, 7.04, 7.4 ])"
      ]
     },
     "execution_count": 658,
     "metadata": {},
     "output_type": "execute_result"
    }
   ],
   "source": [
    "data.mean(axis=0)"
   ]
  },
  {
   "cell_type": "code",
   "execution_count": 645,
   "metadata": {},
   "outputs": [],
   "source": [
    "class SVM():\n",
    "    def __init__(self, x_train, y_train, nb_class = 2, beta = 0.0001, alpha=0.001, nb_epochs = 10000, bs=10, C = 2):\n",
    "        \"\"\"\n",
    "        Implementation of SVM algorithm with the hard and soft margin using the momentum with SGD optimizer\n",
    "    \n",
    "        :param x_train : training data set\n",
    "        :param y_train : training label vetcor\n",
    "        :param nb_class : nombre of classes \n",
    "        :param beta : the hyparameter beta for momentum optimizer\n",
    "        :param alpha : the learning rate parameter for the momumtum optimizer\n",
    "        :param nb_epochs : number of epochs in training process\n",
    "        :param bs : mini-batch size\n",
    "        :param C : Number of observations allowed to be in the margin area (The only parameter in SVM\n",
    "        responsible for the variance-bias trade-off).\n",
    "        \"\"\"\n",
    "        \n",
    "        self.x_train = np.hstack([np.ones((x_train.shape[0],1)), x_train])\n",
    "        self.y_train = y_train\n",
    "        self.nb_epochs = nb_epochs\n",
    "        self.alpha = alpha\n",
    "        self.beta = beta  \n",
    "        self.bs = bs\n",
    "        self.W = np.zeros((1, x_train.shape[0]+1))\n",
    "        self.C = C\n",
    "        self.nb_class = nb_class\n",
    "        self.losses = []\n",
    "        \n",
    "    def relabel(self, label):\n",
    "        \"\"\"\n",
    "        This function relabels the training lables into {-1,1}\n",
    "        It uses One vs all strategy\n",
    "        \n",
    "        :param label: the label for the current class\n",
    "        :return: the new label vector  \n",
    "        \"\"\"\n",
    "        \n",
    "        y_relabel = [1 if self.y_train[i] == label else -1 for i in range(len(self.y_train))]\n",
    "        \n",
    "        return y_relabel\n",
    "    \n",
    "    def momentum_SGD(self, y_relab):\n",
    "        \"\"\"\n",
    "        This function optimize the loss function using momentum with the SGD optimizer \n",
    "        It updates the weights of hyperplan equation.\n",
    "        \n",
    "        param y_relab : a binary label vector\n",
    "        \"\"\"\n",
    "        # Split into training and validation sets\n",
    "        x_train, x_val, y_train, y_val = train_test_split(self.x_train, y_relab, test_size=0.1, random_state=42)      \n",
    "        N, nb_features = x_train.shape\n",
    "        \n",
    "        # Initialize the weights and velocity vectors\n",
    "        W, V = np.zeros((1,nb_features)), np.zeros((1,nb_features))\n",
    "        \n",
    "        \n",
    "        for _ in range(self.nb_epochs):\n",
    "            \n",
    "            # Compute the loss and the weights overs the mini-batchs of the training datasets\n",
    "            for i in range(N//self.bs +1 ):\n",
    "                \n",
    "                # split the training dataset into mini-batchs\n",
    "                x_part = x_train[i*self.bs:(i+1)*self.bs, :]\n",
    "                y_part = y_train[i*self.bs:(i+1)*self.bs]\n",
    "                \n",
    "                 \n",
    "                # compute the gradient and loss of the hinge-loss function using momentum with SGD\n",
    "                dw = W - (self.C/N)*sum([y_part[j]*x_part[j,:] if np.matmul(W, x_part[j,:].T)<1 else 0 for j in range(len(x_part))])\n",
    "                loss = (1 / 2) * norm(W) ** 2 + self.C * np.sum(np.maximum(np.zeros((1, x_part.shape[0])), 1 - np.multiply(y_part, np.matmul(W, x_part.T))))\n",
    "                self.losses.append(loss)\n",
    "                \n",
    "            \n",
    "                #update the weights and velocity vectors\n",
    "                V = self.beta*V + (1-self.beta)*dw\n",
    "                W = W - self.alpha*V\n",
    "                \n",
    "        self.W = W\n",
    "\n",
    "        # computing the trainig accuracy\n",
    "        zeta_train = np.maximum(np.zeros((1,N)),1- y_train*(np.matmul(W,x_train.T)))\n",
    "        train_loss = (1 / 2) * norm(W) ** 2 + self.C * np.sum(zeta_train)\n",
    "        train_class = np.array([1 if y_train[l]*(np.matmul(W,x_train[l,:].T))> 1 - zeta_train[0][l] else -1 for l in range(len(y_train))])\n",
    "        train_accuracy = (y_train == train_class).mean()*100\n",
    "        print(train_accuracy)\n",
    " \n",
    "        # computing the validation accuracy\n",
    "        zeta_val = np.maximum(np.zeros((1,x_val.shape[0])),1- y_val*(np.matmul(W,x_val.T)))\n",
    "        val_loss = (1 / 2) * norm(W) ** 2 + self.C * np.sum(zeta_val)\n",
    "        val_class = np.array([1 if y_val[l]*(np.matmul(W,x_val[l,:].T))> 1 - zeta_val[0][l] else -1 for l in range(len(y_val))])\n",
    "        val_accuracy = (y_train == train_class).mean()*100        \n",
    "\n",
    "        return self\n",
    "    \n",
    "    def train(self):\n",
    "        \"\"\"\n",
    "        This function train the SVM model with soft and hard margin, it uses the one vs all strategy \n",
    "        \"\"\"\n",
    "        \n",
    "        # for each class train the SVM using one vs all strategy \n",
    "        for i in range(self.nb_class):\n",
    "            y_relab = self.relabel(i)\n",
    "            self.momentum_SGD(y_relab)\n",
    "        return self\n",
    "    \n",
    "    def predict(self, x_test, y_test):\n",
    "        \"\"\"\n",
    "        This function is used to test the model over new testing data samples, using\n",
    "        the weights matrix obtained after training.        \n",
    "        \"\"\"\n",
    "        \n",
    "        x_test = np.hstack([np.ones((x_test.shape[0],1)), x_test])\n",
    "        self.train()\n",
    "        \n",
    "        # computing the validation accuracy\n",
    "        zeta_predict = np.maximum(np.zeros((1,x_test.shape[0])),1- y_test*(np.matmul(self.W,x_test.T)))\n",
    "        test_class = np.array([1 if y_test[l]*(np.matmul(self.W,x_test[l,:].T))> 1 - zeta_predict[0][l] else -1 for l in range(len(y_test))])\n",
    "     \n",
    "        return test_class\n",
    "    "
   ]
  },
  {
   "cell_type": "code",
   "execution_count": 646,
   "metadata": {},
   "outputs": [],
   "source": [
    "object_svm = SVM(data,y, 0)\n",
    "object_svm.__init__(data,y,0)\n",
    "#object_svm.x_train"
   ]
  },
  {
   "cell_type": "code",
   "execution_count": 647,
   "metadata": {},
   "outputs": [
    {
     "name": "stdout",
     "output_type": "stream",
     "text": [
      "53.333333333333336\n"
     ]
    },
    {
     "data": {
      "text/plain": [
       "array([[0.0055953 , 0.01891217, 0.01554688, 0.0356566 , 0.02971557,\n",
       "        0.02731699, 0.02118012, 0.02689185, 0.01977461]])"
      ]
     },
     "execution_count": 647,
     "metadata": {},
     "output_type": "execute_result"
    }
   ],
   "source": [
    "A  = object_svm.momentum_SGD(y)\n",
    "A.W"
   ]
  },
  {
   "cell_type": "markdown",
   "metadata": {},
   "source": [
    "# ACP"
   ]
  },
  {
   "cell_type": "code",
   "execution_count": 786,
   "metadata": {},
   "outputs": [],
   "source": [
    "class ACP():\n",
    "    def __init__(self, x_train, nb_component):\n",
    "        \"\"\"\n",
    "        In this function, we implement the ACP method, which is used in dimension reduction\n",
    "        \n",
    "        :param x_train : the training dataset\n",
    "        :param nb_compenent : the number of principal nb_component \n",
    "        \"\"\"\n",
    "        \n",
    "        self.x_train = x_train\n",
    "        self.nb_component = nb_component\n",
    "        \n",
    "    def standar_scaler(self):\n",
    "        \"\"\"\n",
    "        This function apply the standar scalar operator : z = (x  - mu)/ standard deviations\n",
    "        \n",
    "        :return: the dataset after the standar deviation\"\"\"\n",
    "        N = self.x_train.shape[0]\n",
    "        \n",
    "        # mean of the dataset : mu\n",
    "        mu = self.x_train.mean(axis=0)\n",
    "        \n",
    "        # standard deviation of the dataset\n",
    "        sd = np.sqrt(abs((self.x_train - mu)**2).mean(axis=0))\n",
    "\n",
    "        # apply (x - mean)/standard deviations\n",
    "        z_standard = (self.x_train - mu)/sd\n",
    "        \n",
    "        return z_standard\n",
    "    \n",
    "        \n",
    "    def covariance(self, x, n):\n",
    "        \"\"\"\n",
    "        This funtion compute the covariance of a matrix\n",
    "        \n",
    "        :return: the covariance value\n",
    "        \"\"\"\n",
    "        \n",
    "        cov = (1/(n - 1)) * np.matmul(x.T, x)  \n",
    "        return cov\n",
    "        \n",
    "    def ACP(self):\n",
    "        \"\"\"\n",
    "        This function compute compute the Eigenvectors and Eigenvalues \n",
    "        \n",
    "        :return: nb_component sorted Eigenvelues/ vectors and the cumulative variance\n",
    "        \"\"\"\n",
    "        \n",
    "        # number of samples\n",
    "        n = self.x_train.shape[0]\n",
    "        \n",
    "        # apply standard scalar\n",
    "        x_centre = self.standar_scaler()\n",
    "        \n",
    "        # Compute the covariance matrix : S = (X.T * X)/N\n",
    "        cov = self.covariance(x_centre, n)  \n",
    "        \n",
    "        #Calculating Eigenvalues and Eigenvectors of the covariance matrix\n",
    "        eigen_values , eigen_vectors = np.linalg.eigh(cov)\n",
    "        \n",
    "    \n",
    "        #sort the eigenvalues in descending order\n",
    "        sorted_index = np.argsort(eigen_values)[::-1]\n",
    "        sorted_eigenvalue = eigen_values[sorted_index]\n",
    "    \n",
    "        #similarly sort the eigenvectors \n",
    "        sorted_eigenvectors = eigen_vectors[:,sorted_index]\n",
    "\n",
    "\n",
    "        # compute the comulative variance for the k principal compenents\n",
    "        eig_vals_total = sum(sorted_eigenvalue)\n",
    "        explained_variance = [(i / eig_vals_total)*100 for i in sorted_eigenvalue]\n",
    "        explained_variance = np.round(explained_variance, 2)\n",
    "        cum_explained_variance = np.cumsum(explained_variance)        \n",
    "        \n",
    "        return sorted_eigenvectors[:self.nb_component], cum_explained_variance[:self.nb_component]"
   ]
  },
  {
   "cell_type": "code",
   "execution_count": 787,
   "metadata": {},
   "outputs": [
    {
     "data": {
      "text/plain": [
       "(array([[-0.53604361,  0.39358241, -0.19353859,  0.09920278,  0.24884612,\n",
       "         -0.17061043, -0.29404617, -0.57702365],\n",
       "        [-0.57476827, -0.28862121,  0.0207089 , -0.35536144,  0.02356247,\n",
       "         -0.01554884, -0.44508906,  0.51061471],\n",
       "        [-0.31780699,  0.17544461,  0.44105295,  0.20530303, -0.08170746,\n",
       "          0.78366005,  0.10227257, -0.01679279]]),\n",
       " array([17.76, 33.73, 47.43]))"
      ]
     },
     "execution_count": 787,
     "metadata": {},
     "output_type": "execute_result"
    }
   ],
   "source": [
    "ACP_object = ACP(data, 3)\n",
    "ACP_object.ACP()"
   ]
  }
 ],
 "metadata": {
  "kernelspec": {
   "display_name": "Python 3",
   "language": "python",
   "name": "python3"
  },
  "language_info": {
   "codemirror_mode": {
    "name": "ipython",
    "version": 3
   },
   "file_extension": ".py",
   "mimetype": "text/x-python",
   "name": "python",
   "nbconvert_exporter": "python",
   "pygments_lexer": "ipython3",
   "version": "3.7.1"
  }
 },
 "nbformat": 4,
 "nbformat_minor": 2
}
